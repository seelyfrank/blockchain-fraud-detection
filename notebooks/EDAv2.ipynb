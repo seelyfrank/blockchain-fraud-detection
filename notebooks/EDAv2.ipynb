{
 "cells": [
  {
   "cell_type": "markdown",
   "metadata": {},
   "source": [
    "# EDA Version 2\n",
    "\n",
    "In this notebook, I will continue where I left off from v1 but will only use `data/test_data` at the moment"
   ]
  },
  {
   "cell_type": "code",
   "execution_count": 1,
   "metadata": {},
   "outputs": [],
   "source": [
    "import mysql.connector\n",
    "import pandas as pd\n",
    "import os\n",
    "import matplotlib.pyplot as plt\n",
    "import numpy as np\n",
    "import seaborn as sns\n",
    "from scipy import stats"
   ]
  },
  {
   "cell_type": "code",
   "execution_count": null,
   "metadata": {},
   "outputs": [],
   "source": [
    "db_password = os.environ.get('DB_PASSWORD')\n",
    "\n",
    "# Connect to MySQL\n",
    "conn = mysql.connector.connect(\n",
    "    host=\"localhost\",\n",
    "    user=\"root\",\n",
    "    password=db_password,  # Use your MySQL password\n",
    "    database=\"blockchain_fraud\"\n",
    ")\n",
    "\n",
    "# Fetch all transactions\n",
    "query = \"SELECT * FROM transactions;\"\n",
    "df = pd.read_sql(query, conn)\n",
    "\n",
    "# Close connection\n",
    "conn.close()\n"
   ]
  },
  {
   "cell_type": "code",
   "execution_count": null,
   "metadata": {},
   "outputs": [],
   "source": [
    "# Fix the id column\n",
    "df.drop(columns=['id'], inplace=True)\n",
    "df.rename_axis('id', axis=1,inplace=True)"
   ]
  },
  {
   "cell_type": "code",
   "execution_count": null,
   "metadata": {},
   "outputs": [],
   "source": [
    "df.describe()"
   ]
  },
  {
   "cell_type": "markdown",
   "metadata": {},
   "source": [
    "Here, we can see that the value of most transactions is relatively low, at around 1-2 ether. The maximum value (as of last check) was 33183 ether, which is a crazy high volume of ether. "
   ]
  },
  {
   "cell_type": "code",
   "execution_count": null,
   "metadata": {},
   "outputs": [],
   "source": [
    "df.info()"
   ]
  },
  {
   "cell_type": "markdown",
   "metadata": {},
   "source": [
    "Non NaN values which is a good sign."
   ]
  },
  {
   "cell_type": "markdown",
   "metadata": {},
   "source": [
    "Lets check for duplicate data on our hash, since that should be a unique key."
   ]
  },
  {
   "cell_type": "code",
   "execution_count": null,
   "metadata": {},
   "outputs": [],
   "source": [
    "df.duplicated(subset=['hash']).sum()"
   ]
  },
  {
   "cell_type": "markdown",
   "metadata": {},
   "source": [
    "No duplicates, which is also good\n",
    "\n",
    "Lets check the distributions of some of our features."
   ]
  },
  {
   "cell_type": "code",
   "execution_count": null,
   "metadata": {},
   "outputs": [],
   "source": [
    "def plot_log_scatter(index, values, title, xlabel, ylabel):\n",
    "    sns.set_style(\"whitegrid\")\n",
    "\n",
    "    plt.figure(figsize=(12, 6))\n",
    "\n",
    "    plt.scatter(index,\n",
    "                values,\n",
    "                linestyle='-', \n",
    "                marker='o',\n",
    "                s=1,\n",
    "                alpha=0.5, \n",
    "                color='black',\n",
    "                label=\"Transaction Value\")\n",
    "\n",
    "    # Use log scale for better visualization of outliers\n",
    "    plt.yscale(\"log\")\n",
    "\n",
    "    plt.xticks(np.linspace(0, len(values), num=10, dtype=int))\n",
    "\n",
    "    plt.xlabel(xlabel, fontsize=14)\n",
    "    plt.ylabel(ylabel, fontsize=14)\n",
    "    plt.title(title, fontsize=16, fontweight='bold')\n",
    "\n",
    "    plt.grid(True, linestyle='--', alpha=0.6)\n",
    "\n",
    "    plt.legend()\n",
    "\n",
    "    plt.show()\n"
   ]
  },
  {
   "cell_type": "code",
   "execution_count": null,
   "metadata": {},
   "outputs": [],
   "source": [
    "plot_log_scatter(df.index,\n",
    "                df['value'],\n",
    "                'Distribution of transaction value (ETH)',\n",
    "                'Transaction Index',\n",
    "                'ETH Value (Log Scale)')"
   ]
  },
  {
   "cell_type": "code",
   "execution_count": null,
   "metadata": {},
   "outputs": [],
   "source": [
    "plt.figure(figsize=(12, 6))\n",
    "\n",
    "sns.histplot(df['value'], bins=50, log_scale=True, kde=True)\n",
    "\n",
    "plt.xlabel(\"Transaction Value (ETH)\", fontsize=14)\n",
    "plt.ylabel(\"Frequency\", fontsize=14)\n",
    "plt.title(\"Distribution of Ethereum Transaction Values\", fontsize=16)\n",
    "plt.grid(True, linestyle=\"--\", alpha=0.6)\n",
    "plt.show()\n"
   ]
  },
  {
   "cell_type": "markdown",
   "metadata": {},
   "source": [
    "The values of these transactions in ETH is actually fairly normal, and the mass seems to lean a bit heavier on the right side than the left side. We can see that there are actually just as many outliers on the left (possibly more) than there are on the right."
   ]
  },
  {
   "cell_type": "code",
   "execution_count": null,
   "metadata": {},
   "outputs": [],
   "source": [
    "plt.figure(figsize=(20, 5))\n",
    "sns.boxplot(x=df['value'], showfliers=True)\n",
    "\n",
    "plt.xlabel(\"Transaction Value (ETH)\", fontsize=20)\n",
    "plt.title(\"Ethereum Transaction Value Distribution\", fontsize=25)\n",
    "plt.show()"
   ]
  },
  {
   "cell_type": "markdown",
   "metadata": {},
   "source": [
    "Lets fine out where our outliers are (for the larger transactions)"
   ]
  },
  {
   "cell_type": "code",
   "execution_count": null,
   "metadata": {},
   "outputs": [],
   "source": [
    "def find_outliers(data, threshhold):\n",
    "    zscores = stats.zscore(data)\n",
    "    return np.where(zscores >= threshhold)[0]\n",
    "\n",
    "outliers_gt_2 = find_outliers(df['value'], 2)\n",
    "outliers_gt_3 = find_outliers(df['value'], 3)\n",
    "\n",
    "outliers_gt_2_val = df['value'][outliers_gt_2].sort_values()\n",
    "outliers_gt_3_val = df['value'][outliers_gt_3].sort_values()"
   ]
  },
  {
   "cell_type": "code",
   "execution_count": null,
   "metadata": {},
   "outputs": [],
   "source": [
    "print(f'Number of transactions with a Z-score of 2 or higher: {len(outliers_gt_2_val)}')\n",
    "print('--------------------------------------------------------------------------------')\n",
    "print(f'Values that are greater than a Z-score of 2:\\n {outliers_gt_2_val}')"
   ]
  },
  {
   "cell_type": "code",
   "execution_count": null,
   "metadata": {},
   "outputs": [],
   "source": [
    "print(f'Number of transactions with a Z-score of 3 or higher: {len(outliers_gt_3_val)}')\n",
    "print('--------------------------------------------------------------------------------')\n",
    "print(f'Values that are greater than a Z-score of 3:\\n {outliers_gt_3_val}')"
   ]
  },
  {
   "cell_type": "markdown",
   "metadata": {},
   "source": [
    "Having the z-score on hand in our data can be a useful feature, so lets add a column that displays it."
   ]
  },
  {
   "cell_type": "code",
   "execution_count": null,
   "metadata": {},
   "outputs": [],
   "source": [
    "df['value_zscore'] = stats.zscore(df['value'])\n",
    "df.head()"
   ]
  },
  {
   "cell_type": "markdown",
   "metadata": {},
   "source": [
    "Something else that might be useful is detecting transaction patterns between senders and recipients. Frequent interaction between ids can possibly be suspicious activity.\n",
    "\n",
    "Lets integrate a SQL query to conduct this analysis."
   ]
  },
  {
   "cell_type": "code",
   "execution_count": null,
   "metadata": {},
   "outputs": [],
   "source": [
    "# Open another connection\n",
    "db_password = os.environ.get('DB_PASSWORD')\n",
    "\n",
    "# Connect to MySQL\n",
    "conn = mysql.connector.connect(\n",
    "    host=\"localhost\",\n",
    "    user=\"root\",\n",
    "    password=db_password,  # Use your MySQL password\n",
    "    database=\"blockchain_fraud\"\n",
    ")\n",
    "\n",
    "query = '''SELECT sender, recipient, COUNT(*) AS num_transactions\n",
    "           FROM transactions\n",
    "           GROUP BY sender, recipient\n",
    "           HAVING COUNT(*) > 50'''\n",
    "\n",
    "df_wash_trading = pd.read_sql(query, conn)\n",
    "\n",
    "conn.close()"
   ]
  },
  {
   "cell_type": "code",
   "execution_count": null,
   "metadata": {},
   "outputs": [],
   "source": [
    "df_wash_trading.describe()"
   ]
  }
 ],
 "metadata": {
  "kernelspec": {
   "display_name": "Python 3",
   "language": "python",
   "name": "python3"
  },
  "language_info": {
   "codemirror_mode": {
    "name": "ipython",
    "version": 3
   },
   "file_extension": ".py",
   "mimetype": "text/x-python",
   "name": "python",
   "nbconvert_exporter": "python",
   "pygments_lexer": "ipython3",
   "version": "3.13.1"
  }
 },
 "nbformat": 4,
 "nbformat_minor": 2
}
