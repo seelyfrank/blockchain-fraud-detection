{
 "cells": [
  {
   "cell_type": "markdown",
   "metadata": {},
   "source": [
    "# The plan\n",
    "### 1. Create some new features with the original table (as found in EDAv2)  \n",
    "### 2. Group by sender and recipient to find where users are trading abnormally high between each other\n",
    "### 3. Check if users send back and forth similar amounts frequently (wash trading)\n",
    "### 4. Compute median time difference between trades for recurring transactions  "
   ]
  }
 ],
 "metadata": {
  "language_info": {
   "name": "python"
  }
 },
 "nbformat": 4,
 "nbformat_minor": 2
}
